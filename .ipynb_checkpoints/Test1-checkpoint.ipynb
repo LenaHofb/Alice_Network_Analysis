{
 "cells": [
  {
   "cell_type": "markdown",
   "id": "1985a00a-4334-424c-a630-0e5cae7855c3",
   "metadata": {},
   "source": [
    "## Test script"
   ]
  },
  {
   "cell_type": "markdown",
   "id": "dade1b49-12fd-4af1-b91c-ebfbe545c931",
   "metadata": {},
   "source": [
    "Test Number 2 for Exercise 1.2"
   ]
  },
  {
   "cell_type": "code",
   "execution_count": null,
   "id": "9783b70f-1be6-4498-b11d-1f94ef924631",
   "metadata": {},
   "outputs": [],
   "source": []
  }
 ],
 "metadata": {
  "kernelspec": {
   "display_name": "Python 3 (ipykernel)",
   "language": "python",
   "name": "python3"
  },
  "language_info": {
   "codemirror_mode": {
    "name": "ipython",
    "version": 3
   },
   "file_extension": ".py",
   "mimetype": "text/x-python",
   "name": "python",
   "nbconvert_exporter": "python",
   "pygments_lexer": "ipython3",
   "version": "3.12.4"
  }
 },
 "nbformat": 4,
 "nbformat_minor": 5
}
